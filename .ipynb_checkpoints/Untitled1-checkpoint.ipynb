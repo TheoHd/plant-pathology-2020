{
 "cells": [
  {
   "cell_type": "code",
   "execution_count": 8,
   "metadata": {},
   "outputs": [
    {
     "name": "stdout",
     "output_type": "stream",
     "text": [
      "C:/Users/elif_/Downloads\\Test_1.jpg\n"
     ]
    }
   ],
   "source": [
    "import shutil\n",
    "\n",
    "for i in range(5):\n",
    "    filePath = shutil.copy(('C:/Users/elif_/OneDrive - Reseau-GES/IABD2/Semestre2/reinforcement/Kaggle/images/Test_'+str(i)+'.jpg'),'C:/Users/elif_/Downloads')\n",
    "print(filePath)"
   ]
  },
  {
   "cell_type": "code",
   "execution_count": null,
   "metadata": {},
   "outputs": [],
   "source": []
  }
 ],
 "metadata": {
  "kernelspec": {
   "display_name": "Python 3",
   "language": "python",
   "name": "python3"
  },
  "language_info": {
   "codemirror_mode": {
    "name": "ipython",
    "version": 3
   },
   "file_extension": ".py",
   "mimetype": "text/x-python",
   "name": "python",
   "nbconvert_exporter": "python",
   "pygments_lexer": "ipython3",
   "version": "3.7.6"
  }
 },
 "nbformat": 4,
 "nbformat_minor": 4
}
