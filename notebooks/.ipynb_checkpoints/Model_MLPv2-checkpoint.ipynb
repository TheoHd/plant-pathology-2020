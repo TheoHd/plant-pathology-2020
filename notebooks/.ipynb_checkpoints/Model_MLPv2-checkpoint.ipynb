{
 "cells": [
  {
   "cell_type": "code",
   "execution_count": null,
   "metadata": {},
   "outputs": [],
   "source": [
    "import tensorflow as tf\n",
    "from tensorflow.keras.optimizers import *\n",
    "from tensorflow.keras.regularizers import *\n",
    "from tensorflow.keras.metrics import *\n",
    "from tensorflow.keras.losses import *\n",
    "from tensorflow.keras.layers import *\n",
    "from tensorflow.keras.activations import *\n",
    "from tensorflow.keras.estimator import *\n",
    "from tensorflow.keras.models import *\n",
    "from tensorflow_core.python.keras.layers import CuDNNLSTM\n",
    "from tensorflow_core.python.keras.layers.convolutional_recurrent import ConvLSTM2D\n",
    "from tensorflow_core.python.keras.layers.normalization import BatchNormalization\n",
    "from tensorflow.keras.preprocessing.image import ImageDataGenerator\n",
    "from tensorflow.python.keras.utils.data_utils import Sequence\n",
    "import numpy as np\n",
    "import h5py\n",
    "import matplotlib.pyplot as plt\n",
    "from sklearn.preprocessing import LabelEncoder, StandardScaler\n",
    "import os\n",
    "import pandas as pd\n",
    "import glob\n",
    "import pathlib\n",
    "import math"
   ]
  },
  {
   "cell_type": "code",
   "execution_count": null,
   "metadata": {},
   "outputs": [],
   "source": [
    "#training set list\n",
    "df = pd.read_csv('C:/Users/Chaofu/kaggle-competition/data/plant-pathology-2020-fgvc7/train.csv')\n",
    "columns=[\"healthy\", \"multiple_diseases\", \"rust\", \"scab\"]\n",
    "#testing set list\n",
    "df_test = pd.read_csv('C:/Users/Chaofu/kaggle-competition/data/plant-pathology-2020-fgvc7/test.csv')\n",
    "\n",
    "#appending .jpg so that we can dirctly read the images from \"image_id\" column\n",
    "df['image_id'] = df['image_id'].astype(str)+\".jpg\"\n",
    "df_test['image_id'] = df_test['image_id'].astype(str)+\".jpg\""
   ]
  },
  {
   "cell_type": "code",
   "execution_count": null,
   "metadata": {},
   "outputs": [],
   "source": [
    "BATCH_SIZE = 32\n",
    "IMG_WIDGHT = 300\n",
    "IMG_HEIGH = 300\n",
    "\n",
    "#data augmentation\n",
    "datagen = ImageDataGenerator(\n",
    "      rescale=1./255,\n",
    "      rotation_range=40,\n",
    "      width_shift_range=0.2,\n",
    "      height_shift_range=0.2,\n",
    "      shear_range=0.2,\n",
    "      zoom_range=0.2,\n",
    "      horizontal_flip=True,\n",
    "      fill_mode='nearest')\n",
    "\n",
    "test_datagen = ImageDataGenerator(rescale=1./255)\n",
    "\n",
    "\n",
    "    \n",
    "#training data \n",
    "train_generator=datagen.flow_from_dataframe(\n",
    "    dataframe=df[:1460],\n",
    "    directory='C:/Users/Chaofu/kaggle-competition/data/plant-pathology-2020-fgvc7/images',\n",
    "    x_col=\"image_id\",\n",
    "    y_col=columns,\n",
    "    batch_size=BATCH_SIZE,\n",
    "    seed=42,\n",
    "    shuffle=True,\n",
    "    class_mode=\"raw\",\n",
    "    target_size=(IMG_WIDGHT,IMG_HEIGH))\n",
    "\n",
    "#validation data\n",
    "valid_generator=test_datagen.flow_from_dataframe(\n",
    "    dataframe=df[1460:],\n",
    "    directory='C:/Users/Chaofu/kaggle-competition/data/plant-pathology-2020-fgvc7/images',\n",
    "    x_col=\"image_id\",\n",
    "    y_col=columns,\n",
    "    batch_size=BATCH_SIZE,\n",
    "    seed=42,\n",
    "    shuffle=True,\n",
    "    class_mode=\"raw\",\n",
    "    target_size=(IMG_WIDGHT,IMG_HEIGH))\n",
    "\n",
    "\n",
    "#test data\n",
    "test_generator=test_datagen.flow_from_dataframe(\n",
    "    dataframe=df_test,\n",
    "    directory='C:/Users/Chaofu/kaggle-competition/data/plant-pathology-2020-fgvc7/images',\n",
    "    x_col=\"image_id\",\n",
    "    batch_size=1,\n",
    "    seed=42,\n",
    "    shuffle=False,\n",
    "    class_mode=None,\n",
    "    target_size=(IMG_WIDGHT,IMG_HEIGH))"
   ]
  },
  {
   "cell_type": "code",
   "execution_count": null,
   "metadata": {},
   "outputs": [],
   "source": [
    "X_train, y_train = train_generator.next()\n",
    "X_test, y_test = valid_generator.next()"
   ]
  },
  {
   "cell_type": "code",
   "execution_count": null,
   "metadata": {},
   "outputs": [],
   "source": [
    "# plot some images\n",
    "sample_training, _ = next(train_generator)\n",
    "\n",
    "def plotImage(images):\n",
    "    fig, axes = plt.subplots(1, 10, figsize=(20, 20))\n",
    "    axes = axes.flatten()\n",
    "    for img, ax in zip(images, axes):\n",
    "        print(img.shape)\n",
    "        ax.imshow(img)\n",
    "        ax.axis('off')\n",
    "    plt.tight_layout()\n",
    "    plt.show()\n",
    "\n",
    "plotImage((sample_training[:10]))"
   ]
  },
  {
   "cell_type": "code",
   "execution_count": null,
   "metadata": {},
   "outputs": [],
   "source": [
    "from tensorflow.keras.regularizers import L1L2"
   ]
  },
  {
   "cell_type": "code",
   "execution_count": null,
   "metadata": {},
   "outputs": [],
   "source": [
    "def create_model():\n",
    "    \n",
    "    model = Sequential()\n",
    "\n",
    "    model.add(Flatten(input_shape=(300, 300, 3)))    \n",
    "    \n",
    "    model.add(Dense(512, activation=relu, kernel_regularizer=L1L2(l2=0.01)))\n",
    "    model.add(Dropout(0.1))\n",
    "    model.add(Dense(512, activation=relu, kernel_regularizer=L1L2(l2=0.01)))\n",
    "    model.add(Dropout(0.1))\n",
    "    model.add(Dense(512, activation=relu, kernel_regularizer=L1L2(l2=0.01)))\n",
    "    model.add(Dropout(0.1))\n",
    "\n",
    "    model.add(Dense(4, activation=softmax, kernel_regularizer=L1L2(l2=0.01)))\n",
    "    \n",
    "    model.compile(loss = 'categorical_crossentropy',\n",
    "                  optimizer = Adam(),\n",
    "                  metrics = ['categorical_accuracy'])\n",
    "    return model"
   ]
  },
  {
   "cell_type": "code",
   "execution_count": null,
   "metadata": {},
   "outputs": [],
   "source": [
    "# summary\n",
    "model = create_model()\n",
    "model.summary()"
   ]
  },
  {
   "cell_type": "code",
   "execution_count": null,
   "metadata": {
    "scrolled": true
   },
   "outputs": [],
   "source": [
    "STEP_TRAIN=train_generator.n//train_generator.batch_size\n",
    "STEP_VALID=valid_generator.n//valid_generator.batch_size\n",
    "STEP_TEST=test_generator.n//test_generator.batch_size\n",
    "\n",
    "print(STEP_TRAIN)\n",
    "print(STEP_VALID)\n",
    "print(STEP_TEST)"
   ]
  },
  {
   "cell_type": "code",
   "execution_count": null,
   "metadata": {
    "scrolled": false
   },
   "outputs": [],
   "source": [
    "history=model.fit_generator(generator=train_generator, \n",
    "                    steps_per_epoch=STEP_TRAIN, \n",
    "                    validation_data=valid_generator,\n",
    "                    validation_steps=STEP_VALID,\n",
    "                    epochs=100)"
   ]
  },
  {
   "cell_type": "code",
   "execution_count": null,
   "metadata": {},
   "outputs": [],
   "source": []
  }
 ],
 "metadata": {
  "kernelspec": {
   "display_name": "Python 3",
   "language": "python",
   "name": "python3"
  },
  "language_info": {
   "codemirror_mode": {
    "name": "ipython",
    "version": 3
   },
   "file_extension": ".py",
   "mimetype": "text/x-python",
   "name": "python",
   "nbconvert_exporter": "python",
   "pygments_lexer": "ipython3",
   "version": "3.7.7"
  }
 },
 "nbformat": 4,
 "nbformat_minor": 4
}
