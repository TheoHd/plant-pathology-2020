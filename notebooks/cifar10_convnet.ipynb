{
 "cells": [
  {
   "cell_type": "markdown",
   "metadata": {},
   "source": [
    "# <u>Convolutional Neural Network</u>"
   ]
  },
  {
   "cell_type": "markdown",
   "metadata": {},
   "source": [
    "Le Convolutional Neural Network, aussi appelé CNN ou Convnet,\n",
    "est un type de réseau de neurones qui permet un traitement convolutif d'images,\n",
    "c'est à dire des régions d'images.\n",
    "Le but est de prétraiter des petites quantités d'informations.\n",
    "Les réseaux neuronaux convolutifs sont populaires pour leur capacité à traiter \n",
    "efficacement la reconnaissance d'image et de vidéo.\n",
    "<br>\n",
    "<img src=\"https://miro.medium.com/max/2510/1*vkQ0hXDaQv57sALXAJquxA.jpeg\"></img>\n",
    "<small><small>Source : https://miro.medium.com/</small></small>\n",
    "<br>\n",
    "\n",
    "Dans le cadre de Tensorflow, on peut créer des modèles CNN grâce à la \n",
    "classe `Sequential()` mais surtout en y ajoutant des `Conv2D()` \n",
    "qui vont nous permettre de gérer un certain nombre de filtre par image ainsi \n",
    "que la taille de nos noyaux. De plus, nous y ajouterons également des couches de \n",
    "`MaxPool2D()` qui réduisent les données d'image sans en modifier la profondeur de sortie. \n",
    "Pour notre couche de sortie, nous suiverons le même principe que le perceptron multi-couches \n",
    "en utilisant une couche `Dense()` pour avoir 10 résultats en sortie en utilisant la fonction \n",
    "d'activation `softmax`.\n",
    "\n",
    "Pour suivre l'example de nos modèles MLP et suite à des expérimentations nous utiliserons également du Dropout pour éviter un overfit trop important."
   ]
  },
  {
   "cell_type": "code",
   "execution_count": 1,
   "metadata": {
    "pycharm": {
     "is_executing": false
    }
   },
   "outputs": [
    {
     "name": "stdout",
     "text": [
      "Model: \"sequential\"\n",
      "_________________________________________________________________\n",
      "Layer (type)                 Output Shape              Param #   \n",
      "=================================================================\n",
      "conv2d (Conv2D)              (None, 32, 32, 64)        1792      \n",
      "_________________________________________________________________\n",
      "conv2d_1 (Conv2D)            (None, 32, 32, 64)        36928     \n",
      "_________________________________________________________________\n",
      "max_pooling2d (MaxPooling2D) (None, 16, 16, 64)        0         \n",
      "_________________________________________________________________\n",
      "conv2d_2 (Conv2D)            (None, 16, 16, 32)        18464     \n",
      "_________________________________________________________________\n",
      "max_pooling2d_1 (MaxPooling2 (None, 8, 8, 32)          0         \n",
      "_________________________________________________________________\n",
      "conv2d_3 (Conv2D)            (None, 8, 8, 32)          9248      \n",
      "_________________________________________________________________\n",
      "max_pooling2d_2 (MaxPooling2 (None, 4, 4, 32)          0         \n",
      "_________________________________________________________________\n",
      "flatten (Flatten)            (None, 512)               0         \n",
      "_________________________________________________________________\n",
      "dense (Dense)                (None, 256)               131328    \n",
      "_________________________________________________________________\n",
      "dropout (Dropout)            (None, 256)               0         \n",
      "_________________________________________________________________\n",
      "dense_1 (Dense)              (None, 10)                2570      \n",
      "=================================================================\n",
      "Total params: 200,330\n",
      "Trainable params: 200,330\n",
      "Non-trainable params: 0\n",
      "_________________________________________________________________\n"
     ],
     "output_type": "stream"
    },
    {
     "data": {
      "image/png": "[encoded data removed]",
      "text/plain": "<IPython.core.display.Image object>"
     },
     "metadata": {},
     "output_type": "execute_result",
     "execution_count": 1
    }
   ],
   "source": [
    "from tensorflow.keras.models import Sequential\n",
    "from tensorflow.keras.layers import Conv2D, MaxPool2D, Flatten, Dense, Dropout\n",
    "from tensorflow.keras.activations import relu, softmax\n",
    "from tensorflow.keras.losses import sparse_categorical_crossentropy\n",
    "from tensorflow.keras.metrics import sparse_categorical_accuracy\n",
    "from tensorflow.keras.utils import plot_model\n",
    "\n",
    "model = Sequential()\n",
    "\n",
    "model.add(Conv2D(64, (3,3), padding=\"same\", activation=relu, input_shape=(32,32,3)))\n",
    "model.add(Conv2D(64, (3,3), padding=\"same\", activation=relu))\n",
    "model.add(MaxPool2D(2,2))\n",
    "model.add(Conv2D(32, (3,3), padding=\"same\", activation=relu))\n",
    "model.add(MaxPool2D(2,2))\n",
    "model.add(Conv2D(32, (3,3), padding=\"same\", activation=relu))\n",
    "model.add(MaxPool2D(2,2))\n",
    "model.add(Flatten())\n",
    "model.add(Dense(256, activation=relu))\n",
    "model.add(Dropout(0.5))\n",
    "model.add(Dense(10, activation=softmax))\n",
    "model.compile(\n",
    "    optimizer=\"adam\", \n",
    "    loss=sparse_categorical_crossentropy,\n",
    "    metrics=[sparse_categorical_accuracy]\n",
    ")\n",
    "model.build()\n",
    "model.summary()\n",
    "plot_model(model,to_file=\"./img/convnet.png\")"
   ]
  },
  {
   "cell_type": "markdown",
   "metadata": {},
   "source": [
    "En exécutant ceci :\n",
    "```\n",
    "import sys\n",
    "sys.path.insert(1, '..') # allow import from parent folder\n",
    "from src.cifar10 import Cifar10\n",
    "\n",
    "cifar10 = Cifar10(dim=3)\n",
    "\n",
    "cifar10.helper.fit(\n",
    "    model,\n",
    "    cifar10.x_train,\n",
    "    cifar10.y_train,\n",
    "    1024,\n",
    "    100,\n",
    "    validation_data=(cifar10.x_test, cifar10.y_test),\n",
    "    process_name=\"convnet\"\n",
    ")\n",
    "```\n",
    "\n",
    "Voilà ce que nous obtenons :"
   ]
  },
  {
   "cell_type": "code",
   "execution_count": 2,
   "metadata": {
    "pycharm": {
     "is_executing": false
    }
   },
   "outputs": [
    {
     "name": "stdout",
     "text": [
      "=====convnet_4=====\n",
      "Epoch 1 - loss: 2.0087750416564942 ; sparse_categorical_accuracy : 0.258760005235672 ; val_loss : 1.6917589582443238 ; val_sparse_categorical_accuracy : 0.3889000117778778\n",
      "Epoch 2 - loss: 1.6344657053756715 ; sparse_categorical_accuracy : 0.39851999282836914 ; val_loss : 1.4729678243637085 ; val_sparse_categorical_accuracy : 0.46299999952316284\n",
      "Epoch 3 - loss: 1.4877963590621948 ; sparse_categorical_accuracy : 0.4565199911594391 ; val_loss : 1.4119527490615844 ; val_sparse_categorical_accuracy : 0.4957999885082245\n",
      "Epoch 4 - loss: 1.3933758646392822 ; sparse_categorical_accuracy : 0.4966999888420105 ; val_loss : 1.2670770963668823 ; val_sparse_categorical_accuracy : 0.5401999950408936\n",
      "Epoch 5 - loss: 1.296054399833679 ; sparse_categorical_accuracy : 0.5364000201225281 ; val_loss : 1.2078482280731202 ; val_sparse_categorical_accuracy : 0.5684000253677368\n",
      "Epoch 6 - loss: 1.2349724238967896 ; sparse_categorical_accuracy : 0.5582200288772583 ; val_loss : 1.1402569471359254 ; val_sparse_categorical_accuracy : 0.590499997138977\n",
      "Epoch 7 - loss: 1.180479881248474 ; sparse_categorical_accuracy : 0.5768600106239319 ; val_loss : 1.0972063905715943 ; val_sparse_categorical_accuracy : 0.6140999794006348\n",
      "Epoch 8 - loss: 1.1252178278732299 ; sparse_categorical_accuracy : 0.5992799997329712 ; val_loss : 1.0503260131835936 ; val_sparse_categorical_accuracy : 0.6266999840736389\n",
      "Epoch 9 - loss: 1.0791388943481446 ; sparse_categorical_accuracy : 0.6173800230026245 ; val_loss : 1.0166496576309203 ; val_sparse_categorical_accuracy : 0.6377999782562256\n",
      "Epoch 10 - loss: 1.0372854093170165 ; sparse_categorical_accuracy : 0.6320400238037109 ; val_loss : 0.9882069226264953 ; val_sparse_categorical_accuracy : 0.6503000259399414\n",
      "Epoch 11 - loss: 0.9984102919769288 ; sparse_categorical_accuracy : 0.6465799808502197 ; val_loss : 0.9642081866264344 ; val_sparse_categorical_accuracy : 0.6600000262260437\n",
      "Epoch 12 - loss: 0.9695297242355346 ; sparse_categorical_accuracy : 0.6572200059890747 ; val_loss : 0.9447591965675354 ; val_sparse_categorical_accuracy : 0.6693000197410583\n",
      "Epoch 13 - loss: 0.9474277916908265 ; sparse_categorical_accuracy : 0.6651999950408936 ; val_loss : 0.9221267256736755 ; val_sparse_categorical_accuracy : 0.6811000108718872\n",
      "Epoch 14 - loss: 0.9186363392066955 ; sparse_categorical_accuracy : 0.6776599884033203 ; val_loss : 0.8872451099395752 ; val_sparse_categorical_accuracy : 0.6904000043869019\n",
      "Epoch 15 - loss: 0.889252760219574 ; sparse_categorical_accuracy : 0.6858800053596497 ; val_loss : 0.898515393447876 ; val_sparse_categorical_accuracy : 0.6866999864578247\n",
      "Epoch 16 - loss: 0.8654233877372741 ; sparse_categorical_accuracy : 0.6953799724578857 ; val_loss : 0.8507395438194275 ; val_sparse_categorical_accuracy : 0.7049000263214111\n",
      "Epoch 17 - loss: 0.8465515844917297 ; sparse_categorical_accuracy : 0.7029200196266174 ; val_loss : 0.8525751091003418 ; val_sparse_categorical_accuracy : 0.7031000256538391\n",
      "Epoch 18 - loss: 0.8221895654678345 ; sparse_categorical_accuracy : 0.710640013217926 ; val_loss : 0.8316875566482544 ; val_sparse_categorical_accuracy : 0.7059999704360962\n",
      "Epoch 19 - loss: 0.7996224673461914 ; sparse_categorical_accuracy : 0.7199599742889404 ; val_loss : 0.8031740461349487 ; val_sparse_categorical_accuracy : 0.7181000113487244\n",
      "Epoch 20 - loss: 0.7840892344093323 ; sparse_categorical_accuracy : 0.7244399785995483 ; val_loss : 0.8179738631248474 ; val_sparse_categorical_accuracy : 0.720300018787384\n",
      "Epoch 21 - loss: 0.7711951431846619 ; sparse_categorical_accuracy : 0.7286199927330017 ; val_loss : 0.8065550841331482 ; val_sparse_categorical_accuracy : 0.7202000021934509\n",
      "Epoch 22 - loss: 0.7536818430137634 ; sparse_categorical_accuracy : 0.7369199991226196 ; val_loss : 0.7807308472633362 ; val_sparse_categorical_accuracy : 0.7281000018119812\n",
      "Epoch 23 - loss: 0.7315664954376221 ; sparse_categorical_accuracy : 0.743340015411377 ; val_loss : 0.7750681510925292 ; val_sparse_categorical_accuracy : 0.7336999773979187\n",
      "Epoch 24 - loss: 0.7148875234413147 ; sparse_categorical_accuracy : 0.7493000030517578 ; val_loss : 0.7690111069679261 ; val_sparse_categorical_accuracy : 0.734499990940094\n",
      "Epoch 25 - loss: 0.7031155370903015 ; sparse_categorical_accuracy : 0.7534000277519226 ; val_loss : 0.7610575255393982 ; val_sparse_categorical_accuracy : 0.7368000149726868\n",
      "Epoch 26 - loss: 0.6981933040428162 ; sparse_categorical_accuracy : 0.7547799944877625 ; val_loss : 0.7798883425712585 ; val_sparse_categorical_accuracy : 0.727400004863739\n",
      "Epoch 27 - loss: 0.6902536282730103 ; sparse_categorical_accuracy : 0.7565199732780457 ; val_loss : 0.7439135633468628 ; val_sparse_categorical_accuracy : 0.7376999855041504\n",
      "Epoch 28 - loss: 0.6761067985534668 ; sparse_categorical_accuracy : 0.762660026550293 ; val_loss : 0.7501946815490723 ; val_sparse_categorical_accuracy : 0.7404999732971191\n",
      "Epoch 29 - loss: 0.6559700275802612 ; sparse_categorical_accuracy : 0.7692800164222717 ; val_loss : 0.7435226254463195 ; val_sparse_categorical_accuracy : 0.7443000078201294\n",
      "Epoch 30 - loss: 0.649501539402008 ; sparse_categorical_accuracy : 0.7702599763870239 ; val_loss : 0.7288694575309753 ; val_sparse_categorical_accuracy : 0.7501999735832214\n",
      "Epoch 31 - loss: 0.6440400898742675 ; sparse_categorical_accuracy : 0.774179995059967 ; val_loss : 0.7546012886047363 ; val_sparse_categorical_accuracy : 0.7378000020980835\n",
      "Epoch 32 - loss: 0.6205057165336609 ; sparse_categorical_accuracy : 0.7798399925231934 ; val_loss : 0.71761960439682 ; val_sparse_categorical_accuracy : 0.7534999847412109\n",
      "Epoch 33 - loss: 0.6131599162483216 ; sparse_categorical_accuracy : 0.7821199893951416 ; val_loss : 0.7241100277900696 ; val_sparse_categorical_accuracy : 0.7516000270843506\n",
      "Epoch 34 - loss: 0.6093618019485474 ; sparse_categorical_accuracy : 0.7851600050926208 ; val_loss : 0.7245454879760742 ; val_sparse_categorical_accuracy : 0.7479000091552734\n",
      "Epoch 35 - loss: 0.5913692269706726 ; sparse_categorical_accuracy : 0.7914400100708008 ; val_loss : 0.7291212723731995 ; val_sparse_categorical_accuracy : 0.7504000067710876\n",
      "Epoch 36 - loss: 0.5833112313079833 ; sparse_categorical_accuracy : 0.7945399880409241 ; val_loss : 0.716052660369873 ; val_sparse_categorical_accuracy : 0.7526999711990356\n",
      "Epoch 37 - loss: 0.5875279356956482 ; sparse_categorical_accuracy : 0.7926200032234192 ; val_loss : 0.7109761216163635 ; val_sparse_categorical_accuracy : 0.7572000026702881\n",
      "Epoch 38 - loss: 0.5603068872070313 ; sparse_categorical_accuracy : 0.8009600043296814 ; val_loss : 0.7056489849090576 ; val_sparse_categorical_accuracy : 0.7573999762535095\n",
      "Epoch 39 - loss: 0.5631029965782166 ; sparse_categorical_accuracy : 0.8008400201797485 ; val_loss : 0.7021799085617065 ; val_sparse_categorical_accuracy : 0.7628999948501587\n",
      "Epoch 40 - loss: 0.549504162311554 ; sparse_categorical_accuracy : 0.8046000003814697 ; val_loss : 0.7097290907859802 ; val_sparse_categorical_accuracy : 0.7612000107765198\n",
      "Epoch 41 - loss: 0.5478450741577149 ; sparse_categorical_accuracy : 0.8052999973297119 ; val_loss : 0.7125745409965515 ; val_sparse_categorical_accuracy : 0.7558000087738037\n",
      "Epoch 42 - loss: 0.5404281544876098 ; sparse_categorical_accuracy : 0.8075799942016602 ; val_loss : 0.6993140273094177 ; val_sparse_categorical_accuracy : 0.7623999714851379\n",
      "Epoch 43 - loss: 0.5371405998802186 ; sparse_categorical_accuracy : 0.8055599927902222 ; val_loss : 0.7126394855499267 ; val_sparse_categorical_accuracy : 0.7616000175476074\n",
      "Epoch 44 - loss: 0.5142342515945435 ; sparse_categorical_accuracy : 0.8169199824333191 ; val_loss : 0.711447838306427 ; val_sparse_categorical_accuracy : 0.7605999708175659\n",
      "Epoch 45 - loss: 0.5098285964202881 ; sparse_categorical_accuracy : 0.8190799951553345 ; val_loss : 0.715945154762268 ; val_sparse_categorical_accuracy : 0.7609000205993652\n",
      "Epoch 46 - loss: 0.5061308472251892 ; sparse_categorical_accuracy : 0.8205999732017517 ; val_loss : 0.7131538654327393 ; val_sparse_categorical_accuracy : 0.7581999897956848\n",
      "Epoch 47 - loss: 0.49376634569168093 ; sparse_categorical_accuracy : 0.8240799903869629 ; val_loss : 0.6951082785606384 ; val_sparse_categorical_accuracy : 0.7674000263214111\n",
      "Epoch 48 - loss: 0.4906147803974152 ; sparse_categorical_accuracy : 0.8240200281143188 ; val_loss : 0.7260876136779785 ; val_sparse_categorical_accuracy : 0.762499988079071\n",
      "Epoch 49 - loss: 0.48056739665031434 ; sparse_categorical_accuracy : 0.82805997133255 ; val_loss : 0.7129694941520691 ; val_sparse_categorical_accuracy : 0.7613999843597412\n",
      "Epoch 50 - loss: 0.4799193955039978 ; sparse_categorical_accuracy : 0.8269199728965759 ; val_loss : 0.7063295823097229 ; val_sparse_categorical_accuracy : 0.7635999917984009\n",
      "Epoch 51 - loss: 0.4685088508415222 ; sparse_categorical_accuracy : 0.8326399922370911 ; val_loss : 0.7267930715560913 ; val_sparse_categorical_accuracy : 0.7634000182151794\n",
      "Epoch 52 - loss: 0.4738625146389008 ; sparse_categorical_accuracy : 0.8315799832344055 ; val_loss : 0.7021428017616272 ; val_sparse_categorical_accuracy : 0.7677000164985657\n",
      "Epoch 53 - loss: 0.4559327501296997 ; sparse_categorical_accuracy : 0.8360000252723694 ; val_loss : 0.7209586408615112 ; val_sparse_categorical_accuracy : 0.7599999904632568\n",
      "Epoch 54 - loss: 0.4547397278022766 ; sparse_categorical_accuracy : 0.8367599844932556 ; val_loss : 0.7192675188064576 ; val_sparse_categorical_accuracy : 0.765500009059906\n",
      "Epoch 55 - loss: 0.44837358966827395 ; sparse_categorical_accuracy : 0.8397799730300903 ; val_loss : 0.724727247428894 ; val_sparse_categorical_accuracy : 0.7680000066757202\n",
      "Epoch 56 - loss: 0.4382634159946442 ; sparse_categorical_accuracy : 0.8419399857521057 ; val_loss : 0.7227665411949158 ; val_sparse_categorical_accuracy : 0.7674999833106995\n",
      "Epoch 57 - loss: 0.43181129119873046 ; sparse_categorical_accuracy : 0.8440399765968323 ; val_loss : 0.7142775922775269 ; val_sparse_categorical_accuracy : 0.7626000046730042\n",
      "Epoch 58 - loss: 0.41838486777305606 ; sparse_categorical_accuracy : 0.84961998462677 ; val_loss : 0.7381271544456482 ; val_sparse_categorical_accuracy : 0.7648000121116638\n",
      "Epoch 59 - loss: 0.4072044734859467 ; sparse_categorical_accuracy : 0.8529599905014038 ; val_loss : 0.7583069044113159 ; val_sparse_categorical_accuracy : 0.7638000249862671\n",
      "Epoch 60 - loss: 0.4177370588493347 ; sparse_categorical_accuracy : 0.8489800095558167 ; val_loss : 0.7253868417739868 ; val_sparse_categorical_accuracy : 0.7663000226020813\n",
      "Epoch 61 - loss: 0.40716158803939817 ; sparse_categorical_accuracy : 0.8540800213813782 ; val_loss : 0.7531451359748841 ; val_sparse_categorical_accuracy : 0.7633000016212463\n",
      "Epoch 62 - loss: 0.40683588369369506 ; sparse_categorical_accuracy : 0.8539599776268005 ; val_loss : 0.7504483326911926 ; val_sparse_categorical_accuracy : 0.7601000070571899\n",
      "Epoch 63 - loss: 0.4038813555240631 ; sparse_categorical_accuracy : 0.8538399934768677 ; val_loss : 0.7345385821342468 ; val_sparse_categorical_accuracy : 0.7663000226020813\n",
      "Epoch 64 - loss: 0.39462307987213135 ; sparse_categorical_accuracy : 0.8573600053787231 ; val_loss : 0.7362092326164246 ; val_sparse_categorical_accuracy : 0.7634000182151794\n",
      "Epoch 65 - loss: 0.38845122928619386 ; sparse_categorical_accuracy : 0.8588399887084961 ; val_loss : 0.7525295162200928 ; val_sparse_categorical_accuracy : 0.763700008392334\n",
      "Epoch 66 - loss: 0.38403367162704466 ; sparse_categorical_accuracy : 0.8613200187683105 ; val_loss : 0.7634877185821534 ; val_sparse_categorical_accuracy : 0.7646999955177307\n",
      "Epoch 67 - loss: 0.3722737316036224 ; sparse_categorical_accuracy : 0.8637599945068359 ; val_loss : 0.7637532152175903 ; val_sparse_categorical_accuracy : 0.7656000256538391\n",
      "Epoch 68 - loss: 0.370673185338974 ; sparse_categorical_accuracy : 0.8650199770927429 ; val_loss : 0.763612695980072 ; val_sparse_categorical_accuracy : 0.7677000164985657\n",
      "Epoch 69 - loss: 0.3648178684616089 ; sparse_categorical_accuracy : 0.8671799898147583 ; val_loss : 0.7818847950935364 ; val_sparse_categorical_accuracy : 0.7616999745368958\n",
      "Epoch 70 - loss: 0.36262259888648984 ; sparse_categorical_accuracy : 0.8671799898147583 ; val_loss : 0.7693597153663635 ; val_sparse_categorical_accuracy : 0.7671999931335449\n"
     ],
     "output_type": "stream"
    }
   ],
   "source": [
    "from src.helper import Helper\n",
    "Helper().read_log(\"convnet_4\")"
   ]
  },
  {
   "cell_type": "markdown",
   "metadata": {},
   "source": [
    "Nous observons alors que nous avons une précision supérieure que lorsque nous\n",
    "faisions un MLP classique. Cependant le score est sûrement diminué à cause de \n",
    "l'underfitting global de ce modèle. L'entrainement a été arrêté en avance car avons\n",
    "remarqué qu'il commençait à overfit.\n",
    "Le temps d'exécution est cependant bien plus long avec un convnet qu'avec un MLP.\n",
    "\n",
    "Pour corriger le problème de temps d'exécution, nous avons également ajouté un \n",
    "système d'arrêt anticipé avec le callback `EarlyStopping` de keras."
   ]
  },
  {
   "cell_type": "code",
   "execution_count": 3,
   "metadata": {
    "pycharm": {
     "is_executing": false
    }
   },
   "outputs": [],
   "source": [
    "import tensorflow as tf\n",
    "# Ajouté dans notre fonction `fit()` dans helper.py\n",
    "earlystop_callback = tf.keras.callbacks.EarlyStopping(\n",
    "    monitor=\"val_sparse_categorical_accuracy\",\n",
    "    min_delta=0.0001,\n",
    "    patience=1\n",
    ")"
   ]
  },
  {
   "cell_type": "markdown",
   "source": [
    "Après avoir lancé plusieurs entraînements de modèles, nous observons que\n",
    "nous avons une précision encore meilleure.\n",
    "Qui se situe entre 60% et 75%. On peut donc en conclure que dans le cadre des images,\n",
    "nous arrivons à encore mieux différencier nos classes. Cela est dû au fait que notre\n",
    "modèle fait de la reconnaissance de \"features\", et qu'on peut considérer ce type \n",
    "d'entrainement comme plus efficace qu'un réseau de neurones classique qui prendra \n",
    "directement des pixels en entrée."
   ],
   "metadata": {
    "collapsed": false,
    "pycharm": {
     "name": "#%% md\n"
    }
   }
  },
  {
   "cell_type": "markdown",
   "source": [
    "En utilisant la fonction utilisée après avoir lancé un scenario d'entrainements, on peut voir\n",
    "le score de nos meilleurs modèles convnet générés :"
   ],
   "metadata": {
    "collapsed": false,
    "pycharm": {
     "name": "#%% md\n"
    }
   }
  },
  {
   "cell_type": "code",
   "execution_count": 4,
   "outputs": [],
   "source": [
    "from src.helper import Helper\n",
    "\n",
    "helper = Helper()\n",
    "best_convnet_models = helper.evaluate_models(10, \"convnet\")"
   ],
   "metadata": {
    "collapsed": false,
    "pycharm": {
     "name": "#%%\n",
     "is_executing": false
    }
   }
  },
  {
   "cell_type": "code",
   "execution_count": 5,
   "outputs": [
    {
     "data": {
      "text/plain": "[('convnet_2', 15.083199662489315),\n ('convnet_31', 14.609647667562774),\n ('convnet_30', 14.572673098181928),\n ('convnet_4', 14.459470080293148),\n ('convnet_68', 14.229722836366664),\n ('convnet_25', 14.18847273898768),\n ('convnet_6', 14.107114394814017),\n ('convnet_41', 13.935853388124842),\n ('convnet_37', 13.898582188309854),\n ('convnet_11', 13.868539978307009)]"
     },
     "metadata": {},
     "output_type": "execute_result",
     "execution_count": 5
    }
   ],
   "source": [
    "best_convnet_models"
   ],
   "metadata": {
    "collapsed": false,
    "pycharm": {
     "name": "#%%\n",
     "is_executing": false
    }
   }
  },
  {
   "cell_type": "code",
   "execution_count": 6,
   "outputs": [
    {
     "data": {
      "text/plain": "{'convnet_2': {'score': 15.083199662489315,\n  'acc': '77.07%',\n  'loss': '0.6500975021553039',\n  'val_acc': '80.52%',\n  'val_loss': '0.554096814918518',\n  'state': 'underfitting'},\n 'convnet_31': {'score': 14.609647667562774,\n  'acc': '77.05%',\n  'loss': '0.6538646300888061',\n  'val_acc': '74.35%',\n  'val_loss': '0.7445753907203674',\n  'state': 'overfitting'},\n 'convnet_30': {'score': 14.572673098181928,\n  'acc': '82.20%',\n  'loss': '0.4993890814399719',\n  'val_acc': '75.81%',\n  'val_loss': '0.7221537199020386',\n  'state': 'overfitting'},\n 'convnet_4': {'score': 14.459470080293148,\n  'acc': '86.72%',\n  'loss': '0.36262259888648984',\n  'val_acc': '76.72%',\n  'val_loss': '0.7693597153663635',\n  'state': 'overfitting'},\n 'convnet_68': {'score': 14.229722836366664,\n  'acc': '72.60%',\n  'loss': '0.7779385518264771',\n  'val_acc': '75.63%',\n  'val_loss': '0.6892469040870667',\n  'state': 'underfitting'},\n 'convnet_25': {'score': 14.18847273898768,\n  'acc': '75.22%',\n  'loss': '0.7199374064826966',\n  'val_acc': '72.33%',\n  'val_loss': '0.80604681558609',\n  'state': 'overfitting'},\n 'convnet_6': {'score': 14.107114394814017,\n  'acc': '76.43%',\n  'loss': '0.6800197305679321',\n  'val_acc': '72.43%',\n  'val_loss': '0.8170953353881836',\n  'state': 'overfitting'},\n 'convnet_41': {'score': 13.935853388124842,\n  'acc': '69.78%',\n  'loss': '0.8696722102355957',\n  'val_acc': '69.97%',\n  'val_loss': '0.8677661144256592',\n  'state': 'underfitting'},\n 'convnet_37': {'score': 13.898582188309854,\n  'acc': '72.79%',\n  'loss': '0.788169368801117',\n  'val_acc': '70.57%',\n  'val_loss': '0.858781741809845',\n  'state': 'overfitting'},\n 'convnet_11': {'score': 13.868539978307009,\n  'acc': '73.81%',\n  'loss': '0.7620061734390259',\n  'val_acc': '70.79%',\n  'val_loss': '0.8542490217208862',\n  'state': 'overfitting'}}"
     },
     "metadata": {},
     "output_type": "execute_result",
     "execution_count": 6
    }
   ],
   "source": [
    "helper.details(best_convnet_models)"
   ],
   "metadata": {
    "collapsed": false,
    "pycharm": {
     "name": "#%%\n",
     "is_executing": false
    }
   }
  },
  {
   "cell_type": "markdown",
   "source": [
    "## Conclusion\n",
    "\n",
    "Les Convolutional Neural Networks proposent réellement un gros avantage dans la reconnaissance\n",
    "d'image, notamment du fait qu'ils proposent de prendre en compte les features ce qui\n",
    "facilite grandement les temps de traitement. \n",
    "\n",
    "On apprécie également les résultats, qui sont encore meilleurs que ceux observés avec des\n",
    "modèles MLP. Nous trouverons malgré tout que le temps d'entraînement est encore plus long\n",
    "sans une carte graphique adéquate et que les noyaux de convolutions nécessitent réellement des\n",
    "ressources machines.\n",
    "\n",
    "Nous verrons alors avec les ResNet une autre approche qui nous permet de comprendre encore mieux ce\n",
    "qui est possible d'améliorer avec les ResNet."
   ],
   "metadata": {
    "collapsed": false,
    "pycharm": {
     "name": "#%% md\n"
    }
   }
  }
 ],
 "metadata": {
  "kernelspec": {
   "display_name": "Python 3",
   "language": "python",
   "name": "python3"
  },
  "language_info": {
   "codemirror_mode": {
    "name": "ipython",
    "version": 3
   },
   "file_extension": ".py",
   "mimetype": "text/x-python",
   "name": "python",
   "nbconvert_exporter": "python",
   "pygments_lexer": "ipython3",
   "version": "3.7.5"
  },
  "pycharm": {
   "stem_cell": {
    "cell_type": "raw",
    "source": [],
    "metadata": {
     "collapsed": false
    }
   }
  }
 },
 "nbformat": 4,
 "nbformat_minor": 2
}