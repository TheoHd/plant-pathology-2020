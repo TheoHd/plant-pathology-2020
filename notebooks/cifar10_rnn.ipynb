{
 "cells": [
  {
   "cell_type": "markdown",
   "metadata": {
    "collapsed": true,
    "pycharm": {
     "name": "#%% md\n"
    }
   },
   "source": [
    "# <u>Recurrent Neural Network</u>"
   ]
  },
  {
   "cell_type": "markdown",
   "metadata": {
    "pycharm": {
     "name": "#%% md\n"
    }
   },
   "source": [
    "Un Recurrent Neural Network aussi appelé RNN est un type de réseau de neurones artificiel adaptés pour des données d'entrée de taille variable.\n",
    "Ils sont particulièrement efficace pour la reconnaissance de voix et d'images et permettent de résoudre les problèmes de disparition du gradient.\n",
    "\n",
    "![title](https://i.imgur.com/WC7aWHP.png)\n",
    "\n",
    "<small><small>Image source : <a href=\"https://en.wikipedia.org/wiki/File:Recurrent_neural_network_unfold.svg\">wikipedia</a></small></small>\n",
    "\n",
    "Dans notre cas, nous allons utiliser les réseaux Long short-term memory (LSTM) pour pallier le problème de mémorisation du gradient.\n",
    "\n",
    "![title](https://i.imgur.com/r7kVtQt.png)\n",
    "\n",
    "\n",
    "<small><small>Image source : <a href=\"https://upload.wikimedia.org/wikipedia/commons/thumb/6/63/Long_Short-Term_Memory.svg/470px-Long_Short-Term_Memory.svg.png\">wikipedia</a></small></small>\n",
    "\n",
    "Dans le cadre de Tensorflow, il est possible de créer un réseau LSTM en utilisant la classe prévue à cet effet, `LSTM()`."
   ]
  },
  {
   "cell_type": "code",
   "execution_count": 3,
   "metadata": {},
   "outputs": [
    {
     "data": {
      "image/png": "[encoded data removed]",
      "text/plain": [
       "<IPython.core.display.Image object>"
      ]
     },
     "execution_count": 3,
     "metadata": {},
     "output_type": "execute_result"
    }
   ],
   "source": [
    "from tensorflow.keras.models import Sequential\n",
    "from tensorflow.keras.layers import Dense\n",
    "from tensorflow.keras.layers import LSTM\n",
    "from tensorflow.keras.layers import Dropout\n",
    "from tensorflow.keras.utils import plot_model\n",
    "from tensorflow.keras.optimizers import Adam\n",
    "from tensorflow.keras.losses import sparse_categorical_crossentropy\n",
    "from tensorflow.keras.metrics import sparse_categorical_accuracy\n",
    "\n",
    "model = Sequential()\n",
    "model.add(LSTM(64, return_sequences=True, input_dim=(32*32*3)))\n",
    "model.add(LSTM(64, return_sequences=True))\n",
    "model.add(LSTM(64, return_sequences=True))\n",
    "model.add(LSTM(64, return_sequences=True))\n",
    "model.add(Dense(10))\n",
    "model.compile(\n",
    "    optimizer=Adam(),\n",
    "    loss=sparse_categorical_crossentropy,\n",
    "    metrics=[sparse_categorical_accuracy]\n",
    ")\n",
    "plot_model(model, to_file=\"./img/rnn.png\")"
   ]
  },
  {
   "cell_type": "code",
   "execution_count": null,
   "outputs": [],
   "source": [
    "model.summary()"
   ],
   "metadata": {
    "collapsed": false,
    "pycharm": {
     "name": "#%%\n"
    }
   }
  },
  {
   "cell_type": "markdown",
   "metadata": {
    "pycharm": {
     "name": "#%% md\n"
    }
   },
   "source": [
    "Par défaut nous avons choisi `Adam()` comme optimisateur, cependant, hormis le choix du `batch_size` qui\n",
    "est très important le choix de l'optimisateur l'est aussi dans le cadre d'un RNN. Il sera\n",
    "donc important d'en préciser plusieurs dans notre scénario d'entrainement pour obtenir des\n",
    "résultats encore plus satisfaisant.\n",
    "\n"
   ]
  }
 ],
 "metadata": {
  "kernelspec": {
   "display_name": "Python 3",
   "language": "python",
   "name": "python3"
  },
  "language_info": {
   "codemirror_mode": {
    "name": "ipython",
    "version": 3
   },
   "file_extension": ".py",
   "mimetype": "text/x-python",
   "name": "python",
   "nbconvert_exporter": "python",
   "pygments_lexer": "ipython3",
   "version": "3.7.5"
  },
  "pycharm": {
   "stem_cell": {
    "cell_type": "raw",
    "source": [],
    "metadata": {
     "collapsed": false
    }
   }
  }
 },
 "nbformat": 4,
 "nbformat_minor": 1
}